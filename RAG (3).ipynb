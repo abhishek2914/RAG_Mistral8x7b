{
  "nbformat": 4,
  "nbformat_minor": 0,
  "metadata": {
    "colab": {
      "provenance": []
    },
    "kernelspec": {
      "name": "python3",
      "display_name": "Python 3"
    },
    "language_info": {
      "name": "python"
    },
    "widgets": {
      "application/vnd.jupyter.widget-state+json": {
        "7ddda2448eb04f858b13ef1b3245cde1": {
          "model_module": "@jupyter-widgets/controls",
          "model_name": "HBoxModel",
          "model_module_version": "1.5.0",
          "state": {
            "_dom_classes": [],
            "_model_module": "@jupyter-widgets/controls",
            "_model_module_version": "1.5.0",
            "_model_name": "HBoxModel",
            "_view_count": null,
            "_view_module": "@jupyter-widgets/controls",
            "_view_module_version": "1.5.0",
            "_view_name": "HBoxView",
            "box_style": "",
            "children": [
              "IPY_MODEL_3924dc94cffd407fb375cc731ffe3a8a",
              "IPY_MODEL_1866b3731bcd4c05b54e09bf341e046a",
              "IPY_MODEL_0fdaab74267645c994e84e543c5ea721"
            ],
            "layout": "IPY_MODEL_d92f15bd7d004820b78d192fb311a95f"
          }
        },
        "3924dc94cffd407fb375cc731ffe3a8a": {
          "model_module": "@jupyter-widgets/controls",
          "model_name": "HTMLModel",
          "model_module_version": "1.5.0",
          "state": {
            "_dom_classes": [],
            "_model_module": "@jupyter-widgets/controls",
            "_model_module_version": "1.5.0",
            "_model_name": "HTMLModel",
            "_view_count": null,
            "_view_module": "@jupyter-widgets/controls",
            "_view_module_version": "1.5.0",
            "_view_name": "HTMLView",
            "description": "",
            "description_tooltip": null,
            "layout": "IPY_MODEL_8b3f517c58304b66979050b9a09421da",
            "placeholder": "​",
            "style": "IPY_MODEL_50d125917bed4c16a94f4aa378e4bf7d",
            "value": "tokenizer_config.json: 100%"
          }
        },
        "1866b3731bcd4c05b54e09bf341e046a": {
          "model_module": "@jupyter-widgets/controls",
          "model_name": "FloatProgressModel",
          "model_module_version": "1.5.0",
          "state": {
            "_dom_classes": [],
            "_model_module": "@jupyter-widgets/controls",
            "_model_module_version": "1.5.0",
            "_model_name": "FloatProgressModel",
            "_view_count": null,
            "_view_module": "@jupyter-widgets/controls",
            "_view_module_version": "1.5.0",
            "_view_name": "ProgressView",
            "bar_style": "success",
            "description": "",
            "description_tooltip": null,
            "layout": "IPY_MODEL_2d0a31c0bfd24482ae485bd6fee8d5f3",
            "max": 1460,
            "min": 0,
            "orientation": "horizontal",
            "style": "IPY_MODEL_4b50daec8bb84768bef6e5aecca87abc",
            "value": 1460
          }
        },
        "0fdaab74267645c994e84e543c5ea721": {
          "model_module": "@jupyter-widgets/controls",
          "model_name": "HTMLModel",
          "model_module_version": "1.5.0",
          "state": {
            "_dom_classes": [],
            "_model_module": "@jupyter-widgets/controls",
            "_model_module_version": "1.5.0",
            "_model_name": "HTMLModel",
            "_view_count": null,
            "_view_module": "@jupyter-widgets/controls",
            "_view_module_version": "1.5.0",
            "_view_name": "HTMLView",
            "description": "",
            "description_tooltip": null,
            "layout": "IPY_MODEL_97f128fd95094339a12f25cdc90dd738",
            "placeholder": "​",
            "style": "IPY_MODEL_3e36f6d83aaa48ceaec22921f6659577",
            "value": " 1.46k/1.46k [00:00&lt;00:00, 57.9kB/s]"
          }
        },
        "d92f15bd7d004820b78d192fb311a95f": {
          "model_module": "@jupyter-widgets/base",
          "model_name": "LayoutModel",
          "model_module_version": "1.2.0",
          "state": {
            "_model_module": "@jupyter-widgets/base",
            "_model_module_version": "1.2.0",
            "_model_name": "LayoutModel",
            "_view_count": null,
            "_view_module": "@jupyter-widgets/base",
            "_view_module_version": "1.2.0",
            "_view_name": "LayoutView",
            "align_content": null,
            "align_items": null,
            "align_self": null,
            "border": null,
            "bottom": null,
            "display": null,
            "flex": null,
            "flex_flow": null,
            "grid_area": null,
            "grid_auto_columns": null,
            "grid_auto_flow": null,
            "grid_auto_rows": null,
            "grid_column": null,
            "grid_gap": null,
            "grid_row": null,
            "grid_template_areas": null,
            "grid_template_columns": null,
            "grid_template_rows": null,
            "height": null,
            "justify_content": null,
            "justify_items": null,
            "left": null,
            "margin": null,
            "max_height": null,
            "max_width": null,
            "min_height": null,
            "min_width": null,
            "object_fit": null,
            "object_position": null,
            "order": null,
            "overflow": null,
            "overflow_x": null,
            "overflow_y": null,
            "padding": null,
            "right": null,
            "top": null,
            "visibility": null,
            "width": null
          }
        },
        "8b3f517c58304b66979050b9a09421da": {
          "model_module": "@jupyter-widgets/base",
          "model_name": "LayoutModel",
          "model_module_version": "1.2.0",
          "state": {
            "_model_module": "@jupyter-widgets/base",
            "_model_module_version": "1.2.0",
            "_model_name": "LayoutModel",
            "_view_count": null,
            "_view_module": "@jupyter-widgets/base",
            "_view_module_version": "1.2.0",
            "_view_name": "LayoutView",
            "align_content": null,
            "align_items": null,
            "align_self": null,
            "border": null,
            "bottom": null,
            "display": null,
            "flex": null,
            "flex_flow": null,
            "grid_area": null,
            "grid_auto_columns": null,
            "grid_auto_flow": null,
            "grid_auto_rows": null,
            "grid_column": null,
            "grid_gap": null,
            "grid_row": null,
            "grid_template_areas": null,
            "grid_template_columns": null,
            "grid_template_rows": null,
            "height": null,
            "justify_content": null,
            "justify_items": null,
            "left": null,
            "margin": null,
            "max_height": null,
            "max_width": null,
            "min_height": null,
            "min_width": null,
            "object_fit": null,
            "object_position": null,
            "order": null,
            "overflow": null,
            "overflow_x": null,
            "overflow_y": null,
            "padding": null,
            "right": null,
            "top": null,
            "visibility": null,
            "width": null
          }
        },
        "50d125917bed4c16a94f4aa378e4bf7d": {
          "model_module": "@jupyter-widgets/controls",
          "model_name": "DescriptionStyleModel",
          "model_module_version": "1.5.0",
          "state": {
            "_model_module": "@jupyter-widgets/controls",
            "_model_module_version": "1.5.0",
            "_model_name": "DescriptionStyleModel",
            "_view_count": null,
            "_view_module": "@jupyter-widgets/base",
            "_view_module_version": "1.2.0",
            "_view_name": "StyleView",
            "description_width": ""
          }
        },
        "2d0a31c0bfd24482ae485bd6fee8d5f3": {
          "model_module": "@jupyter-widgets/base",
          "model_name": "LayoutModel",
          "model_module_version": "1.2.0",
          "state": {
            "_model_module": "@jupyter-widgets/base",
            "_model_module_version": "1.2.0",
            "_model_name": "LayoutModel",
            "_view_count": null,
            "_view_module": "@jupyter-widgets/base",
            "_view_module_version": "1.2.0",
            "_view_name": "LayoutView",
            "align_content": null,
            "align_items": null,
            "align_self": null,
            "border": null,
            "bottom": null,
            "display": null,
            "flex": null,
            "flex_flow": null,
            "grid_area": null,
            "grid_auto_columns": null,
            "grid_auto_flow": null,
            "grid_auto_rows": null,
            "grid_column": null,
            "grid_gap": null,
            "grid_row": null,
            "grid_template_areas": null,
            "grid_template_columns": null,
            "grid_template_rows": null,
            "height": null,
            "justify_content": null,
            "justify_items": null,
            "left": null,
            "margin": null,
            "max_height": null,
            "max_width": null,
            "min_height": null,
            "min_width": null,
            "object_fit": null,
            "object_position": null,
            "order": null,
            "overflow": null,
            "overflow_x": null,
            "overflow_y": null,
            "padding": null,
            "right": null,
            "top": null,
            "visibility": null,
            "width": null
          }
        },
        "4b50daec8bb84768bef6e5aecca87abc": {
          "model_module": "@jupyter-widgets/controls",
          "model_name": "ProgressStyleModel",
          "model_module_version": "1.5.0",
          "state": {
            "_model_module": "@jupyter-widgets/controls",
            "_model_module_version": "1.5.0",
            "_model_name": "ProgressStyleModel",
            "_view_count": null,
            "_view_module": "@jupyter-widgets/base",
            "_view_module_version": "1.2.0",
            "_view_name": "StyleView",
            "bar_color": null,
            "description_width": ""
          }
        },
        "97f128fd95094339a12f25cdc90dd738": {
          "model_module": "@jupyter-widgets/base",
          "model_name": "LayoutModel",
          "model_module_version": "1.2.0",
          "state": {
            "_model_module": "@jupyter-widgets/base",
            "_model_module_version": "1.2.0",
            "_model_name": "LayoutModel",
            "_view_count": null,
            "_view_module": "@jupyter-widgets/base",
            "_view_module_version": "1.2.0",
            "_view_name": "LayoutView",
            "align_content": null,
            "align_items": null,
            "align_self": null,
            "border": null,
            "bottom": null,
            "display": null,
            "flex": null,
            "flex_flow": null,
            "grid_area": null,
            "grid_auto_columns": null,
            "grid_auto_flow": null,
            "grid_auto_rows": null,
            "grid_column": null,
            "grid_gap": null,
            "grid_row": null,
            "grid_template_areas": null,
            "grid_template_columns": null,
            "grid_template_rows": null,
            "height": null,
            "justify_content": null,
            "justify_items": null,
            "left": null,
            "margin": null,
            "max_height": null,
            "max_width": null,
            "min_height": null,
            "min_width": null,
            "object_fit": null,
            "object_position": null,
            "order": null,
            "overflow": null,
            "overflow_x": null,
            "overflow_y": null,
            "padding": null,
            "right": null,
            "top": null,
            "visibility": null,
            "width": null
          }
        },
        "3e36f6d83aaa48ceaec22921f6659577": {
          "model_module": "@jupyter-widgets/controls",
          "model_name": "DescriptionStyleModel",
          "model_module_version": "1.5.0",
          "state": {
            "_model_module": "@jupyter-widgets/controls",
            "_model_module_version": "1.5.0",
            "_model_name": "DescriptionStyleModel",
            "_view_count": null,
            "_view_module": "@jupyter-widgets/base",
            "_view_module_version": "1.2.0",
            "_view_name": "StyleView",
            "description_width": ""
          }
        },
        "46672f30ed544bd496ca127d3f1dac4a": {
          "model_module": "@jupyter-widgets/controls",
          "model_name": "HBoxModel",
          "model_module_version": "1.5.0",
          "state": {
            "_dom_classes": [],
            "_model_module": "@jupyter-widgets/controls",
            "_model_module_version": "1.5.0",
            "_model_name": "HBoxModel",
            "_view_count": null,
            "_view_module": "@jupyter-widgets/controls",
            "_view_module_version": "1.5.0",
            "_view_name": "HBoxView",
            "box_style": "",
            "children": [
              "IPY_MODEL_df76402d9ba74cbaae6cec86924f7562",
              "IPY_MODEL_8a92d26257bf408daac4bd611b51155d",
              "IPY_MODEL_ce5c22ea1a894560bd16557cb0601e4e"
            ],
            "layout": "IPY_MODEL_ddac3726e48d48cf97643b6e2a1b549c"
          }
        },
        "df76402d9ba74cbaae6cec86924f7562": {
          "model_module": "@jupyter-widgets/controls",
          "model_name": "HTMLModel",
          "model_module_version": "1.5.0",
          "state": {
            "_dom_classes": [],
            "_model_module": "@jupyter-widgets/controls",
            "_model_module_version": "1.5.0",
            "_model_name": "HTMLModel",
            "_view_count": null,
            "_view_module": "@jupyter-widgets/controls",
            "_view_module_version": "1.5.0",
            "_view_name": "HTMLView",
            "description": "",
            "description_tooltip": null,
            "layout": "IPY_MODEL_b87ce012d9744254a5116ac0b2dfc474",
            "placeholder": "​",
            "style": "IPY_MODEL_3efa6aebd8f34f858b3676d60062c173",
            "value": "tokenizer.model: 100%"
          }
        },
        "8a92d26257bf408daac4bd611b51155d": {
          "model_module": "@jupyter-widgets/controls",
          "model_name": "FloatProgressModel",
          "model_module_version": "1.5.0",
          "state": {
            "_dom_classes": [],
            "_model_module": "@jupyter-widgets/controls",
            "_model_module_version": "1.5.0",
            "_model_name": "FloatProgressModel",
            "_view_count": null,
            "_view_module": "@jupyter-widgets/controls",
            "_view_module_version": "1.5.0",
            "_view_name": "ProgressView",
            "bar_style": "success",
            "description": "",
            "description_tooltip": null,
            "layout": "IPY_MODEL_982ae3646d324a9a93b47a466154271a",
            "max": 493443,
            "min": 0,
            "orientation": "horizontal",
            "style": "IPY_MODEL_abaf0d052fda400eb98917de83d31a1e",
            "value": 493443
          }
        },
        "ce5c22ea1a894560bd16557cb0601e4e": {
          "model_module": "@jupyter-widgets/controls",
          "model_name": "HTMLModel",
          "model_module_version": "1.5.0",
          "state": {
            "_dom_classes": [],
            "_model_module": "@jupyter-widgets/controls",
            "_model_module_version": "1.5.0",
            "_model_name": "HTMLModel",
            "_view_count": null,
            "_view_module": "@jupyter-widgets/controls",
            "_view_module_version": "1.5.0",
            "_view_name": "HTMLView",
            "description": "",
            "description_tooltip": null,
            "layout": "IPY_MODEL_e20ca58e6e50465db75e20749527ad2f",
            "placeholder": "​",
            "style": "IPY_MODEL_422a248a3b884be087a34c83b13fcec8",
            "value": " 493k/493k [00:00&lt;00:00, 9.71MB/s]"
          }
        },
        "ddac3726e48d48cf97643b6e2a1b549c": {
          "model_module": "@jupyter-widgets/base",
          "model_name": "LayoutModel",
          "model_module_version": "1.2.0",
          "state": {
            "_model_module": "@jupyter-widgets/base",
            "_model_module_version": "1.2.0",
            "_model_name": "LayoutModel",
            "_view_count": null,
            "_view_module": "@jupyter-widgets/base",
            "_view_module_version": "1.2.0",
            "_view_name": "LayoutView",
            "align_content": null,
            "align_items": null,
            "align_self": null,
            "border": null,
            "bottom": null,
            "display": null,
            "flex": null,
            "flex_flow": null,
            "grid_area": null,
            "grid_auto_columns": null,
            "grid_auto_flow": null,
            "grid_auto_rows": null,
            "grid_column": null,
            "grid_gap": null,
            "grid_row": null,
            "grid_template_areas": null,
            "grid_template_columns": null,
            "grid_template_rows": null,
            "height": null,
            "justify_content": null,
            "justify_items": null,
            "left": null,
            "margin": null,
            "max_height": null,
            "max_width": null,
            "min_height": null,
            "min_width": null,
            "object_fit": null,
            "object_position": null,
            "order": null,
            "overflow": null,
            "overflow_x": null,
            "overflow_y": null,
            "padding": null,
            "right": null,
            "top": null,
            "visibility": null,
            "width": null
          }
        },
        "b87ce012d9744254a5116ac0b2dfc474": {
          "model_module": "@jupyter-widgets/base",
          "model_name": "LayoutModel",
          "model_module_version": "1.2.0",
          "state": {
            "_model_module": "@jupyter-widgets/base",
            "_model_module_version": "1.2.0",
            "_model_name": "LayoutModel",
            "_view_count": null,
            "_view_module": "@jupyter-widgets/base",
            "_view_module_version": "1.2.0",
            "_view_name": "LayoutView",
            "align_content": null,
            "align_items": null,
            "align_self": null,
            "border": null,
            "bottom": null,
            "display": null,
            "flex": null,
            "flex_flow": null,
            "grid_area": null,
            "grid_auto_columns": null,
            "grid_auto_flow": null,
            "grid_auto_rows": null,
            "grid_column": null,
            "grid_gap": null,
            "grid_row": null,
            "grid_template_areas": null,
            "grid_template_columns": null,
            "grid_template_rows": null,
            "height": null,
            "justify_content": null,
            "justify_items": null,
            "left": null,
            "margin": null,
            "max_height": null,
            "max_width": null,
            "min_height": null,
            "min_width": null,
            "object_fit": null,
            "object_position": null,
            "order": null,
            "overflow": null,
            "overflow_x": null,
            "overflow_y": null,
            "padding": null,
            "right": null,
            "top": null,
            "visibility": null,
            "width": null
          }
        },
        "3efa6aebd8f34f858b3676d60062c173": {
          "model_module": "@jupyter-widgets/controls",
          "model_name": "DescriptionStyleModel",
          "model_module_version": "1.5.0",
          "state": {
            "_model_module": "@jupyter-widgets/controls",
            "_model_module_version": "1.5.0",
            "_model_name": "DescriptionStyleModel",
            "_view_count": null,
            "_view_module": "@jupyter-widgets/base",
            "_view_module_version": "1.2.0",
            "_view_name": "StyleView",
            "description_width": ""
          }
        },
        "982ae3646d324a9a93b47a466154271a": {
          "model_module": "@jupyter-widgets/base",
          "model_name": "LayoutModel",
          "model_module_version": "1.2.0",
          "state": {
            "_model_module": "@jupyter-widgets/base",
            "_model_module_version": "1.2.0",
            "_model_name": "LayoutModel",
            "_view_count": null,
            "_view_module": "@jupyter-widgets/base",
            "_view_module_version": "1.2.0",
            "_view_name": "LayoutView",
            "align_content": null,
            "align_items": null,
            "align_self": null,
            "border": null,
            "bottom": null,
            "display": null,
            "flex": null,
            "flex_flow": null,
            "grid_area": null,
            "grid_auto_columns": null,
            "grid_auto_flow": null,
            "grid_auto_rows": null,
            "grid_column": null,
            "grid_gap": null,
            "grid_row": null,
            "grid_template_areas": null,
            "grid_template_columns": null,
            "grid_template_rows": null,
            "height": null,
            "justify_content": null,
            "justify_items": null,
            "left": null,
            "margin": null,
            "max_height": null,
            "max_width": null,
            "min_height": null,
            "min_width": null,
            "object_fit": null,
            "object_position": null,
            "order": null,
            "overflow": null,
            "overflow_x": null,
            "overflow_y": null,
            "padding": null,
            "right": null,
            "top": null,
            "visibility": null,
            "width": null
          }
        },
        "abaf0d052fda400eb98917de83d31a1e": {
          "model_module": "@jupyter-widgets/controls",
          "model_name": "ProgressStyleModel",
          "model_module_version": "1.5.0",
          "state": {
            "_model_module": "@jupyter-widgets/controls",
            "_model_module_version": "1.5.0",
            "_model_name": "ProgressStyleModel",
            "_view_count": null,
            "_view_module": "@jupyter-widgets/base",
            "_view_module_version": "1.2.0",
            "_view_name": "StyleView",
            "bar_color": null,
            "description_width": ""
          }
        },
        "e20ca58e6e50465db75e20749527ad2f": {
          "model_module": "@jupyter-widgets/base",
          "model_name": "LayoutModel",
          "model_module_version": "1.2.0",
          "state": {
            "_model_module": "@jupyter-widgets/base",
            "_model_module_version": "1.2.0",
            "_model_name": "LayoutModel",
            "_view_count": null,
            "_view_module": "@jupyter-widgets/base",
            "_view_module_version": "1.2.0",
            "_view_name": "LayoutView",
            "align_content": null,
            "align_items": null,
            "align_self": null,
            "border": null,
            "bottom": null,
            "display": null,
            "flex": null,
            "flex_flow": null,
            "grid_area": null,
            "grid_auto_columns": null,
            "grid_auto_flow": null,
            "grid_auto_rows": null,
            "grid_column": null,
            "grid_gap": null,
            "grid_row": null,
            "grid_template_areas": null,
            "grid_template_columns": null,
            "grid_template_rows": null,
            "height": null,
            "justify_content": null,
            "justify_items": null,
            "left": null,
            "margin": null,
            "max_height": null,
            "max_width": null,
            "min_height": null,
            "min_width": null,
            "object_fit": null,
            "object_position": null,
            "order": null,
            "overflow": null,
            "overflow_x": null,
            "overflow_y": null,
            "padding": null,
            "right": null,
            "top": null,
            "visibility": null,
            "width": null
          }
        },
        "422a248a3b884be087a34c83b13fcec8": {
          "model_module": "@jupyter-widgets/controls",
          "model_name": "DescriptionStyleModel",
          "model_module_version": "1.5.0",
          "state": {
            "_model_module": "@jupyter-widgets/controls",
            "_model_module_version": "1.5.0",
            "_model_name": "DescriptionStyleModel",
            "_view_count": null,
            "_view_module": "@jupyter-widgets/base",
            "_view_module_version": "1.2.0",
            "_view_name": "StyleView",
            "description_width": ""
          }
        },
        "1162503aa11b46e3a9b918c7e2da6565": {
          "model_module": "@jupyter-widgets/controls",
          "model_name": "HBoxModel",
          "model_module_version": "1.5.0",
          "state": {
            "_dom_classes": [],
            "_model_module": "@jupyter-widgets/controls",
            "_model_module_version": "1.5.0",
            "_model_name": "HBoxModel",
            "_view_count": null,
            "_view_module": "@jupyter-widgets/controls",
            "_view_module_version": "1.5.0",
            "_view_name": "HBoxView",
            "box_style": "",
            "children": [
              "IPY_MODEL_d80e09efc5104df59e05ce891e21b3e3",
              "IPY_MODEL_897618ab25ed40a5849f4d642312e318",
              "IPY_MODEL_89729aa2375d4cebaacc46eb1c3f5abd"
            ],
            "layout": "IPY_MODEL_d718eca2fe844621afa8963e44a9ba9d"
          }
        },
        "d80e09efc5104df59e05ce891e21b3e3": {
          "model_module": "@jupyter-widgets/controls",
          "model_name": "HTMLModel",
          "model_module_version": "1.5.0",
          "state": {
            "_dom_classes": [],
            "_model_module": "@jupyter-widgets/controls",
            "_model_module_version": "1.5.0",
            "_model_name": "HTMLModel",
            "_view_count": null,
            "_view_module": "@jupyter-widgets/controls",
            "_view_module_version": "1.5.0",
            "_view_name": "HTMLView",
            "description": "",
            "description_tooltip": null,
            "layout": "IPY_MODEL_a7dff421f32842faa6702f2809131621",
            "placeholder": "​",
            "style": "IPY_MODEL_181bb7aa630c47d7ba8c0a04b4032140",
            "value": "tokenizer.json: 100%"
          }
        },
        "897618ab25ed40a5849f4d642312e318": {
          "model_module": "@jupyter-widgets/controls",
          "model_name": "FloatProgressModel",
          "model_module_version": "1.5.0",
          "state": {
            "_dom_classes": [],
            "_model_module": "@jupyter-widgets/controls",
            "_model_module_version": "1.5.0",
            "_model_name": "FloatProgressModel",
            "_view_count": null,
            "_view_module": "@jupyter-widgets/controls",
            "_view_module_version": "1.5.0",
            "_view_name": "ProgressView",
            "bar_style": "success",
            "description": "",
            "description_tooltip": null,
            "layout": "IPY_MODEL_61baff3191cf4447894028b1ea91d407",
            "max": 1795303,
            "min": 0,
            "orientation": "horizontal",
            "style": "IPY_MODEL_40c6874fc1344d08b81ee5d5f53ff961",
            "value": 1795303
          }
        },
        "89729aa2375d4cebaacc46eb1c3f5abd": {
          "model_module": "@jupyter-widgets/controls",
          "model_name": "HTMLModel",
          "model_module_version": "1.5.0",
          "state": {
            "_dom_classes": [],
            "_model_module": "@jupyter-widgets/controls",
            "_model_module_version": "1.5.0",
            "_model_name": "HTMLModel",
            "_view_count": null,
            "_view_module": "@jupyter-widgets/controls",
            "_view_module_version": "1.5.0",
            "_view_name": "HTMLView",
            "description": "",
            "description_tooltip": null,
            "layout": "IPY_MODEL_4cf69bdbf903499f967625d0eb224eec",
            "placeholder": "​",
            "style": "IPY_MODEL_cc401c079d7f4f8bb88e991efded31f3",
            "value": " 1.80M/1.80M [00:00&lt;00:00, 7.21MB/s]"
          }
        },
        "d718eca2fe844621afa8963e44a9ba9d": {
          "model_module": "@jupyter-widgets/base",
          "model_name": "LayoutModel",
          "model_module_version": "1.2.0",
          "state": {
            "_model_module": "@jupyter-widgets/base",
            "_model_module_version": "1.2.0",
            "_model_name": "LayoutModel",
            "_view_count": null,
            "_view_module": "@jupyter-widgets/base",
            "_view_module_version": "1.2.0",
            "_view_name": "LayoutView",
            "align_content": null,
            "align_items": null,
            "align_self": null,
            "border": null,
            "bottom": null,
            "display": null,
            "flex": null,
            "flex_flow": null,
            "grid_area": null,
            "grid_auto_columns": null,
            "grid_auto_flow": null,
            "grid_auto_rows": null,
            "grid_column": null,
            "grid_gap": null,
            "grid_row": null,
            "grid_template_areas": null,
            "grid_template_columns": null,
            "grid_template_rows": null,
            "height": null,
            "justify_content": null,
            "justify_items": null,
            "left": null,
            "margin": null,
            "max_height": null,
            "max_width": null,
            "min_height": null,
            "min_width": null,
            "object_fit": null,
            "object_position": null,
            "order": null,
            "overflow": null,
            "overflow_x": null,
            "overflow_y": null,
            "padding": null,
            "right": null,
            "top": null,
            "visibility": null,
            "width": null
          }
        },
        "a7dff421f32842faa6702f2809131621": {
          "model_module": "@jupyter-widgets/base",
          "model_name": "LayoutModel",
          "model_module_version": "1.2.0",
          "state": {
            "_model_module": "@jupyter-widgets/base",
            "_model_module_version": "1.2.0",
            "_model_name": "LayoutModel",
            "_view_count": null,
            "_view_module": "@jupyter-widgets/base",
            "_view_module_version": "1.2.0",
            "_view_name": "LayoutView",
            "align_content": null,
            "align_items": null,
            "align_self": null,
            "border": null,
            "bottom": null,
            "display": null,
            "flex": null,
            "flex_flow": null,
            "grid_area": null,
            "grid_auto_columns": null,
            "grid_auto_flow": null,
            "grid_auto_rows": null,
            "grid_column": null,
            "grid_gap": null,
            "grid_row": null,
            "grid_template_areas": null,
            "grid_template_columns": null,
            "grid_template_rows": null,
            "height": null,
            "justify_content": null,
            "justify_items": null,
            "left": null,
            "margin": null,
            "max_height": null,
            "max_width": null,
            "min_height": null,
            "min_width": null,
            "object_fit": null,
            "object_position": null,
            "order": null,
            "overflow": null,
            "overflow_x": null,
            "overflow_y": null,
            "padding": null,
            "right": null,
            "top": null,
            "visibility": null,
            "width": null
          }
        },
        "181bb7aa630c47d7ba8c0a04b4032140": {
          "model_module": "@jupyter-widgets/controls",
          "model_name": "DescriptionStyleModel",
          "model_module_version": "1.5.0",
          "state": {
            "_model_module": "@jupyter-widgets/controls",
            "_model_module_version": "1.5.0",
            "_model_name": "DescriptionStyleModel",
            "_view_count": null,
            "_view_module": "@jupyter-widgets/base",
            "_view_module_version": "1.2.0",
            "_view_name": "StyleView",
            "description_width": ""
          }
        },
        "61baff3191cf4447894028b1ea91d407": {
          "model_module": "@jupyter-widgets/base",
          "model_name": "LayoutModel",
          "model_module_version": "1.2.0",
          "state": {
            "_model_module": "@jupyter-widgets/base",
            "_model_module_version": "1.2.0",
            "_model_name": "LayoutModel",
            "_view_count": null,
            "_view_module": "@jupyter-widgets/base",
            "_view_module_version": "1.2.0",
            "_view_name": "LayoutView",
            "align_content": null,
            "align_items": null,
            "align_self": null,
            "border": null,
            "bottom": null,
            "display": null,
            "flex": null,
            "flex_flow": null,
            "grid_area": null,
            "grid_auto_columns": null,
            "grid_auto_flow": null,
            "grid_auto_rows": null,
            "grid_column": null,
            "grid_gap": null,
            "grid_row": null,
            "grid_template_areas": null,
            "grid_template_columns": null,
            "grid_template_rows": null,
            "height": null,
            "justify_content": null,
            "justify_items": null,
            "left": null,
            "margin": null,
            "max_height": null,
            "max_width": null,
            "min_height": null,
            "min_width": null,
            "object_fit": null,
            "object_position": null,
            "order": null,
            "overflow": null,
            "overflow_x": null,
            "overflow_y": null,
            "padding": null,
            "right": null,
            "top": null,
            "visibility": null,
            "width": null
          }
        },
        "40c6874fc1344d08b81ee5d5f53ff961": {
          "model_module": "@jupyter-widgets/controls",
          "model_name": "ProgressStyleModel",
          "model_module_version": "1.5.0",
          "state": {
            "_model_module": "@jupyter-widgets/controls",
            "_model_module_version": "1.5.0",
            "_model_name": "ProgressStyleModel",
            "_view_count": null,
            "_view_module": "@jupyter-widgets/base",
            "_view_module_version": "1.2.0",
            "_view_name": "StyleView",
            "bar_color": null,
            "description_width": ""
          }
        },
        "4cf69bdbf903499f967625d0eb224eec": {
          "model_module": "@jupyter-widgets/base",
          "model_name": "LayoutModel",
          "model_module_version": "1.2.0",
          "state": {
            "_model_module": "@jupyter-widgets/base",
            "_model_module_version": "1.2.0",
            "_model_name": "LayoutModel",
            "_view_count": null,
            "_view_module": "@jupyter-widgets/base",
            "_view_module_version": "1.2.0",
            "_view_name": "LayoutView",
            "align_content": null,
            "align_items": null,
            "align_self": null,
            "border": null,
            "bottom": null,
            "display": null,
            "flex": null,
            "flex_flow": null,
            "grid_area": null,
            "grid_auto_columns": null,
            "grid_auto_flow": null,
            "grid_auto_rows": null,
            "grid_column": null,
            "grid_gap": null,
            "grid_row": null,
            "grid_template_areas": null,
            "grid_template_columns": null,
            "grid_template_rows": null,
            "height": null,
            "justify_content": null,
            "justify_items": null,
            "left": null,
            "margin": null,
            "max_height": null,
            "max_width": null,
            "min_height": null,
            "min_width": null,
            "object_fit": null,
            "object_position": null,
            "order": null,
            "overflow": null,
            "overflow_x": null,
            "overflow_y": null,
            "padding": null,
            "right": null,
            "top": null,
            "visibility": null,
            "width": null
          }
        },
        "cc401c079d7f4f8bb88e991efded31f3": {
          "model_module": "@jupyter-widgets/controls",
          "model_name": "DescriptionStyleModel",
          "model_module_version": "1.5.0",
          "state": {
            "_model_module": "@jupyter-widgets/controls",
            "_model_module_version": "1.5.0",
            "_model_name": "DescriptionStyleModel",
            "_view_count": null,
            "_view_module": "@jupyter-widgets/base",
            "_view_module_version": "1.2.0",
            "_view_name": "StyleView",
            "description_width": ""
          }
        },
        "5a88979c16ab48dd8e3185556ea6fc6a": {
          "model_module": "@jupyter-widgets/controls",
          "model_name": "HBoxModel",
          "model_module_version": "1.5.0",
          "state": {
            "_dom_classes": [],
            "_model_module": "@jupyter-widgets/controls",
            "_model_module_version": "1.5.0",
            "_model_name": "HBoxModel",
            "_view_count": null,
            "_view_module": "@jupyter-widgets/controls",
            "_view_module_version": "1.5.0",
            "_view_name": "HBoxView",
            "box_style": "",
            "children": [
              "IPY_MODEL_1459860991ce4c329734c30911cfeab4",
              "IPY_MODEL_7f2a97c961894af08e79353683374290",
              "IPY_MODEL_724bbb98456948b781da0c88686d2cca"
            ],
            "layout": "IPY_MODEL_424b9931842041a7a929bb69b1f61d64"
          }
        },
        "1459860991ce4c329734c30911cfeab4": {
          "model_module": "@jupyter-widgets/controls",
          "model_name": "HTMLModel",
          "model_module_version": "1.5.0",
          "state": {
            "_dom_classes": [],
            "_model_module": "@jupyter-widgets/controls",
            "_model_module_version": "1.5.0",
            "_model_name": "HTMLModel",
            "_view_count": null,
            "_view_module": "@jupyter-widgets/controls",
            "_view_module_version": "1.5.0",
            "_view_name": "HTMLView",
            "description": "",
            "description_tooltip": null,
            "layout": "IPY_MODEL_cee8fac75f1f4b60872530daef4ce89f",
            "placeholder": "​",
            "style": "IPY_MODEL_c0737ed3141b4bbbbd685c0ccbdeff03",
            "value": "special_tokens_map.json: 100%"
          }
        },
        "7f2a97c961894af08e79353683374290": {
          "model_module": "@jupyter-widgets/controls",
          "model_name": "FloatProgressModel",
          "model_module_version": "1.5.0",
          "state": {
            "_dom_classes": [],
            "_model_module": "@jupyter-widgets/controls",
            "_model_module_version": "1.5.0",
            "_model_name": "FloatProgressModel",
            "_view_count": null,
            "_view_module": "@jupyter-widgets/controls",
            "_view_module_version": "1.5.0",
            "_view_name": "ProgressView",
            "bar_style": "success",
            "description": "",
            "description_tooltip": null,
            "layout": "IPY_MODEL_3d84173d41be443d82453d96c9c0cfe0",
            "max": 72,
            "min": 0,
            "orientation": "horizontal",
            "style": "IPY_MODEL_d49472d4882a40bbb6183ee379edea8f",
            "value": 72
          }
        },
        "724bbb98456948b781da0c88686d2cca": {
          "model_module": "@jupyter-widgets/controls",
          "model_name": "HTMLModel",
          "model_module_version": "1.5.0",
          "state": {
            "_dom_classes": [],
            "_model_module": "@jupyter-widgets/controls",
            "_model_module_version": "1.5.0",
            "_model_name": "HTMLModel",
            "_view_count": null,
            "_view_module": "@jupyter-widgets/controls",
            "_view_module_version": "1.5.0",
            "_view_name": "HTMLView",
            "description": "",
            "description_tooltip": null,
            "layout": "IPY_MODEL_f61f4a9ccfd74ca5a92e92dbd1657150",
            "placeholder": "​",
            "style": "IPY_MODEL_f6119463d3db4504b1f3f5877eba110c",
            "value": " 72.0/72.0 [00:00&lt;00:00, 3.50kB/s]"
          }
        },
        "424b9931842041a7a929bb69b1f61d64": {
          "model_module": "@jupyter-widgets/base",
          "model_name": "LayoutModel",
          "model_module_version": "1.2.0",
          "state": {
            "_model_module": "@jupyter-widgets/base",
            "_model_module_version": "1.2.0",
            "_model_name": "LayoutModel",
            "_view_count": null,
            "_view_module": "@jupyter-widgets/base",
            "_view_module_version": "1.2.0",
            "_view_name": "LayoutView",
            "align_content": null,
            "align_items": null,
            "align_self": null,
            "border": null,
            "bottom": null,
            "display": null,
            "flex": null,
            "flex_flow": null,
            "grid_area": null,
            "grid_auto_columns": null,
            "grid_auto_flow": null,
            "grid_auto_rows": null,
            "grid_column": null,
            "grid_gap": null,
            "grid_row": null,
            "grid_template_areas": null,
            "grid_template_columns": null,
            "grid_template_rows": null,
            "height": null,
            "justify_content": null,
            "justify_items": null,
            "left": null,
            "margin": null,
            "max_height": null,
            "max_width": null,
            "min_height": null,
            "min_width": null,
            "object_fit": null,
            "object_position": null,
            "order": null,
            "overflow": null,
            "overflow_x": null,
            "overflow_y": null,
            "padding": null,
            "right": null,
            "top": null,
            "visibility": null,
            "width": null
          }
        },
        "cee8fac75f1f4b60872530daef4ce89f": {
          "model_module": "@jupyter-widgets/base",
          "model_name": "LayoutModel",
          "model_module_version": "1.2.0",
          "state": {
            "_model_module": "@jupyter-widgets/base",
            "_model_module_version": "1.2.0",
            "_model_name": "LayoutModel",
            "_view_count": null,
            "_view_module": "@jupyter-widgets/base",
            "_view_module_version": "1.2.0",
            "_view_name": "LayoutView",
            "align_content": null,
            "align_items": null,
            "align_self": null,
            "border": null,
            "bottom": null,
            "display": null,
            "flex": null,
            "flex_flow": null,
            "grid_area": null,
            "grid_auto_columns": null,
            "grid_auto_flow": null,
            "grid_auto_rows": null,
            "grid_column": null,
            "grid_gap": null,
            "grid_row": null,
            "grid_template_areas": null,
            "grid_template_columns": null,
            "grid_template_rows": null,
            "height": null,
            "justify_content": null,
            "justify_items": null,
            "left": null,
            "margin": null,
            "max_height": null,
            "max_width": null,
            "min_height": null,
            "min_width": null,
            "object_fit": null,
            "object_position": null,
            "order": null,
            "overflow": null,
            "overflow_x": null,
            "overflow_y": null,
            "padding": null,
            "right": null,
            "top": null,
            "visibility": null,
            "width": null
          }
        },
        "c0737ed3141b4bbbbd685c0ccbdeff03": {
          "model_module": "@jupyter-widgets/controls",
          "model_name": "DescriptionStyleModel",
          "model_module_version": "1.5.0",
          "state": {
            "_model_module": "@jupyter-widgets/controls",
            "_model_module_version": "1.5.0",
            "_model_name": "DescriptionStyleModel",
            "_view_count": null,
            "_view_module": "@jupyter-widgets/base",
            "_view_module_version": "1.2.0",
            "_view_name": "StyleView",
            "description_width": ""
          }
        },
        "3d84173d41be443d82453d96c9c0cfe0": {
          "model_module": "@jupyter-widgets/base",
          "model_name": "LayoutModel",
          "model_module_version": "1.2.0",
          "state": {
            "_model_module": "@jupyter-widgets/base",
            "_model_module_version": "1.2.0",
            "_model_name": "LayoutModel",
            "_view_count": null,
            "_view_module": "@jupyter-widgets/base",
            "_view_module_version": "1.2.0",
            "_view_name": "LayoutView",
            "align_content": null,
            "align_items": null,
            "align_self": null,
            "border": null,
            "bottom": null,
            "display": null,
            "flex": null,
            "flex_flow": null,
            "grid_area": null,
            "grid_auto_columns": null,
            "grid_auto_flow": null,
            "grid_auto_rows": null,
            "grid_column": null,
            "grid_gap": null,
            "grid_row": null,
            "grid_template_areas": null,
            "grid_template_columns": null,
            "grid_template_rows": null,
            "height": null,
            "justify_content": null,
            "justify_items": null,
            "left": null,
            "margin": null,
            "max_height": null,
            "max_width": null,
            "min_height": null,
            "min_width": null,
            "object_fit": null,
            "object_position": null,
            "order": null,
            "overflow": null,
            "overflow_x": null,
            "overflow_y": null,
            "padding": null,
            "right": null,
            "top": null,
            "visibility": null,
            "width": null
          }
        },
        "d49472d4882a40bbb6183ee379edea8f": {
          "model_module": "@jupyter-widgets/controls",
          "model_name": "ProgressStyleModel",
          "model_module_version": "1.5.0",
          "state": {
            "_model_module": "@jupyter-widgets/controls",
            "_model_module_version": "1.5.0",
            "_model_name": "ProgressStyleModel",
            "_view_count": null,
            "_view_module": "@jupyter-widgets/base",
            "_view_module_version": "1.2.0",
            "_view_name": "StyleView",
            "bar_color": null,
            "description_width": ""
          }
        },
        "f61f4a9ccfd74ca5a92e92dbd1657150": {
          "model_module": "@jupyter-widgets/base",
          "model_name": "LayoutModel",
          "model_module_version": "1.2.0",
          "state": {
            "_model_module": "@jupyter-widgets/base",
            "_model_module_version": "1.2.0",
            "_model_name": "LayoutModel",
            "_view_count": null,
            "_view_module": "@jupyter-widgets/base",
            "_view_module_version": "1.2.0",
            "_view_name": "LayoutView",
            "align_content": null,
            "align_items": null,
            "align_self": null,
            "border": null,
            "bottom": null,
            "display": null,
            "flex": null,
            "flex_flow": null,
            "grid_area": null,
            "grid_auto_columns": null,
            "grid_auto_flow": null,
            "grid_auto_rows": null,
            "grid_column": null,
            "grid_gap": null,
            "grid_row": null,
            "grid_template_areas": null,
            "grid_template_columns": null,
            "grid_template_rows": null,
            "height": null,
            "justify_content": null,
            "justify_items": null,
            "left": null,
            "margin": null,
            "max_height": null,
            "max_width": null,
            "min_height": null,
            "min_width": null,
            "object_fit": null,
            "object_position": null,
            "order": null,
            "overflow": null,
            "overflow_x": null,
            "overflow_y": null,
            "padding": null,
            "right": null,
            "top": null,
            "visibility": null,
            "width": null
          }
        },
        "f6119463d3db4504b1f3f5877eba110c": {
          "model_module": "@jupyter-widgets/controls",
          "model_name": "DescriptionStyleModel",
          "model_module_version": "1.5.0",
          "state": {
            "_model_module": "@jupyter-widgets/controls",
            "_model_module_version": "1.5.0",
            "_model_name": "DescriptionStyleModel",
            "_view_count": null,
            "_view_module": "@jupyter-widgets/base",
            "_view_module_version": "1.2.0",
            "_view_name": "StyleView",
            "description_width": ""
          }
        }
      }
    }
  },
  "cells": [
    {
      "cell_type": "code",
      "execution_count": null,
      "metadata": {
        "colab": {
          "base_uri": "https://localhost:8080/",
          "height": 1000
        },
        "id": "IkN27CZZmI1Q",
        "outputId": "c6934bb7-b760-48b8-b4b7-0aed44d43787"
      },
      "outputs": [
        {
          "output_type": "stream",
          "name": "stdout",
          "text": [
            "Collecting farm-haystack[colab]\n",
            "  Downloading farm_haystack-1.25.2-py3-none-any.whl (768 kB)\n",
            "\u001b[?25l     \u001b[90m━━━━━━━━━━━━━━━━━━━━━━━━━━━━━━━━━━━━━━━━\u001b[0m \u001b[32m0.0/768.8 kB\u001b[0m \u001b[31m?\u001b[0m eta \u001b[36m-:--:--\u001b[0m\r\u001b[2K     \u001b[91m━━━━━━━━━\u001b[0m\u001b[90m╺\u001b[0m\u001b[90m━━━━━━━━━━━━━━━━━━━━━━━━━━━━━━\u001b[0m \u001b[32m174.1/768.8 kB\u001b[0m \u001b[31m5.0 MB/s\u001b[0m eta \u001b[36m0:00:01\u001b[0m\r\u001b[2K     \u001b[91m━━━━━━━━━━━━━━━━━━━━━━━━━━━━━━━━━━━━\u001b[0m\u001b[90m╺\u001b[0m\u001b[90m━━━\u001b[0m \u001b[32m696.3/768.8 kB\u001b[0m \u001b[31m10.2 MB/s\u001b[0m eta \u001b[36m0:00:01\u001b[0m\r\u001b[2K     \u001b[90m━━━━━━━━━━━━━━━━━━━━━━━━━━━━━━━━━━━━━━━━\u001b[0m \u001b[32m768.8/768.8 kB\u001b[0m \u001b[31m8.9 MB/s\u001b[0m eta \u001b[36m0:00:00\u001b[0m\n",
            "\u001b[?25hCollecting boilerpy3 (from farm-haystack[colab])\n",
            "  Downloading boilerpy3-1.0.7-py3-none-any.whl (22 kB)\n",
            "Collecting events (from farm-haystack[colab])\n",
            "  Downloading Events-0.5-py3-none-any.whl (6.8 kB)\n",
            "Collecting httpx (from farm-haystack[colab])\n",
            "  Downloading httpx-0.27.0-py3-none-any.whl (75 kB)\n",
            "\u001b[2K     \u001b[90m━━━━━━━━━━━━━━━━━━━━━━━━━━━━━━━━━━━━━━━━\u001b[0m \u001b[32m75.6/75.6 kB\u001b[0m \u001b[31m9.1 MB/s\u001b[0m eta \u001b[36m0:00:00\u001b[0m\n",
            "\u001b[?25hRequirement already satisfied: jsonschema in /usr/local/lib/python3.10/dist-packages (from farm-haystack[colab]) (4.19.2)\n",
            "Collecting lazy-imports==0.3.1 (from farm-haystack[colab])\n",
            "  Downloading lazy_imports-0.3.1-py3-none-any.whl (12 kB)\n",
            "Requirement already satisfied: more-itertools in /usr/local/lib/python3.10/dist-packages (from farm-haystack[colab]) (10.1.0)\n",
            "Requirement already satisfied: networkx in /usr/local/lib/python3.10/dist-packages (from farm-haystack[colab]) (3.3)\n",
            "Requirement already satisfied: pandas in /usr/local/lib/python3.10/dist-packages (from farm-haystack[colab]) (2.0.3)\n",
            "Requirement already satisfied: pillow in /usr/local/lib/python3.10/dist-packages (from farm-haystack[colab]) (9.4.0)\n",
            "Requirement already satisfied: platformdirs in /usr/local/lib/python3.10/dist-packages (from farm-haystack[colab]) (4.2.0)\n",
            "Collecting posthog (from farm-haystack[colab])\n",
            "  Downloading posthog-3.5.0-py2.py3-none-any.whl (41 kB)\n",
            "\u001b[2K     \u001b[90m━━━━━━━━━━━━━━━━━━━━━━━━━━━━━━━━━━━━━━━━\u001b[0m \u001b[32m41.3/41.3 kB\u001b[0m \u001b[31m4.6 MB/s\u001b[0m eta \u001b[36m0:00:00\u001b[0m\n",
            "\u001b[?25hCollecting prompthub-py==4.0.0 (from farm-haystack[colab])\n",
            "  Downloading prompthub_py-4.0.0-py3-none-any.whl (6.9 kB)\n",
            "Collecting pydantic<2 (from farm-haystack[colab])\n",
            "  Downloading pydantic-1.10.15-cp310-cp310-manylinux_2_17_x86_64.manylinux2014_x86_64.whl (3.1 MB)\n",
            "\u001b[2K     \u001b[90m━━━━━━━━━━━━━━━━━━━━━━━━━━━━━━━━━━━━━━━━\u001b[0m \u001b[32m3.1/3.1 MB\u001b[0m \u001b[31m23.8 MB/s\u001b[0m eta \u001b[36m0:00:00\u001b[0m\n",
            "\u001b[?25hCollecting quantulum3 (from farm-haystack[colab])\n",
            "  Downloading quantulum3-0.9.0-py3-none-any.whl (10.7 MB)\n",
            "\u001b[2K     \u001b[90m━━━━━━━━━━━━━━━━━━━━━━━━━━━━━━━━━━━━━━━━\u001b[0m \u001b[32m10.7/10.7 MB\u001b[0m \u001b[31m56.7 MB/s\u001b[0m eta \u001b[36m0:00:00\u001b[0m\n",
            "\u001b[?25hCollecting rank-bm25 (from farm-haystack[colab])\n",
            "  Downloading rank_bm25-0.2.2-py3-none-any.whl (8.6 kB)\n",
            "Requirement already satisfied: requests in /usr/local/lib/python3.10/dist-packages (from farm-haystack[colab]) (2.31.0)\n",
            "Collecting requests-cache<1.0.0 (from farm-haystack[colab])\n",
            "  Downloading requests_cache-0.9.8-py3-none-any.whl (48 kB)\n",
            "\u001b[2K     \u001b[90m━━━━━━━━━━━━━━━━━━━━━━━━━━━━━━━━━━━━━━━━\u001b[0m \u001b[32m48.7/48.7 kB\u001b[0m \u001b[31m5.4 MB/s\u001b[0m eta \u001b[36m0:00:00\u001b[0m\n",
            "\u001b[?25hCollecting scikit-learn>=1.3.0 (from farm-haystack[colab])\n",
            "  Downloading scikit_learn-1.4.2-cp310-cp310-manylinux_2_17_x86_64.manylinux2014_x86_64.whl (12.1 MB)\n",
            "\u001b[2K     \u001b[90m━━━━━━━━━━━━━━━━━━━━━━━━━━━━━━━━━━━━━━━━\u001b[0m \u001b[32m12.1/12.1 MB\u001b[0m \u001b[31m76.2 MB/s\u001b[0m eta \u001b[36m0:00:00\u001b[0m\n",
            "\u001b[?25hCollecting sseclient-py (from farm-haystack[colab])\n",
            "  Downloading sseclient_py-1.8.0-py2.py3-none-any.whl (8.8 kB)\n",
            "Requirement already satisfied: tenacity in /usr/local/lib/python3.10/dist-packages (from farm-haystack[colab]) (8.2.3)\n",
            "Collecting tiktoken>=0.5.1 (from farm-haystack[colab])\n",
            "  Downloading tiktoken-0.6.0-cp310-cp310-manylinux_2_17_x86_64.manylinux2014_x86_64.whl (1.8 MB)\n",
            "\u001b[2K     \u001b[90m━━━━━━━━━━━━━━━━━━━━━━━━━━━━━━━━━━━━━━━━\u001b[0m \u001b[32m1.8/1.8 MB\u001b[0m \u001b[31m62.0 MB/s\u001b[0m eta \u001b[36m0:00:00\u001b[0m\n",
            "\u001b[?25hRequirement already satisfied: tqdm in /usr/local/lib/python3.10/dist-packages (from farm-haystack[colab]) (4.66.2)\n",
            "Collecting transformers==4.37.2 (from farm-haystack[colab])\n",
            "  Downloading transformers-4.37.2-py3-none-any.whl (8.4 MB)\n",
            "\u001b[2K     \u001b[90m━━━━━━━━━━━━━━━━━━━━━━━━━━━━━━━━━━━━━━━━\u001b[0m \u001b[32m8.4/8.4 MB\u001b[0m \u001b[31m84.1 MB/s\u001b[0m eta \u001b[36m0:00:00\u001b[0m\n",
            "\u001b[?25hCollecting pillow (from farm-haystack[colab])\n",
            "  Downloading Pillow-9.0.0-cp310-cp310-manylinux_2_17_x86_64.manylinux2014_x86_64.whl (4.3 MB)\n",
            "\u001b[2K     \u001b[90m━━━━━━━━━━━━━━━━━━━━━━━━━━━━━━━━━━━━━━━━\u001b[0m \u001b[32m4.3/4.3 MB\u001b[0m \u001b[31m84.6 MB/s\u001b[0m eta \u001b[36m0:00:00\u001b[0m\n",
            "\u001b[?25hRequirement already satisfied: pyyaml<7.0,>=6.0 in /usr/local/lib/python3.10/dist-packages (from prompthub-py==4.0.0->farm-haystack[colab]) (6.0.1)\n",
            "Requirement already satisfied: filelock in /usr/local/lib/python3.10/dist-packages (from transformers==4.37.2->farm-haystack[colab]) (3.13.4)\n",
            "Requirement already satisfied: huggingface-hub<1.0,>=0.19.3 in /usr/local/lib/python3.10/dist-packages (from transformers==4.37.2->farm-haystack[colab]) (0.20.3)\n",
            "Requirement already satisfied: numpy>=1.17 in /usr/local/lib/python3.10/dist-packages (from transformers==4.37.2->farm-haystack[colab]) (1.25.2)\n",
            "Requirement already satisfied: packaging>=20.0 in /usr/local/lib/python3.10/dist-packages (from transformers==4.37.2->farm-haystack[colab]) (24.0)\n",
            "Requirement already satisfied: regex!=2019.12.17 in /usr/local/lib/python3.10/dist-packages (from transformers==4.37.2->farm-haystack[colab]) (2023.12.25)\n",
            "Requirement already satisfied: tokenizers<0.19,>=0.14 in /usr/local/lib/python3.10/dist-packages (from transformers==4.37.2->farm-haystack[colab]) (0.15.2)\n",
            "Requirement already satisfied: safetensors>=0.4.1 in /usr/local/lib/python3.10/dist-packages (from transformers==4.37.2->farm-haystack[colab]) (0.4.2)\n",
            "Requirement already satisfied: typing-extensions>=4.2.0 in /usr/local/lib/python3.10/dist-packages (from pydantic<2->farm-haystack[colab]) (4.11.0)\n",
            "Requirement already satisfied: charset-normalizer<4,>=2 in /usr/local/lib/python3.10/dist-packages (from requests->farm-haystack[colab]) (3.3.2)\n",
            "Requirement already satisfied: idna<4,>=2.5 in /usr/local/lib/python3.10/dist-packages (from requests->farm-haystack[colab]) (3.6)\n",
            "Requirement already satisfied: urllib3<3,>=1.21.1 in /usr/local/lib/python3.10/dist-packages (from requests->farm-haystack[colab]) (2.0.7)\n",
            "Requirement already satisfied: certifi>=2017.4.17 in /usr/local/lib/python3.10/dist-packages (from requests->farm-haystack[colab]) (2024.2.2)\n",
            "Requirement already satisfied: appdirs>=1.4.4 in /usr/local/lib/python3.10/dist-packages (from requests-cache<1.0.0->farm-haystack[colab]) (1.4.4)\n",
            "Requirement already satisfied: attrs>=21.2 in /usr/local/lib/python3.10/dist-packages (from requests-cache<1.0.0->farm-haystack[colab]) (23.2.0)\n",
            "Collecting cattrs>=22.2 (from requests-cache<1.0.0->farm-haystack[colab])\n",
            "  Downloading cattrs-23.2.3-py3-none-any.whl (57 kB)\n",
            "\u001b[2K     \u001b[90m━━━━━━━━━━━━━━━━━━━━━━━━━━━━━━━━━━━━━━━━\u001b[0m \u001b[32m57.5/57.5 kB\u001b[0m \u001b[31m6.8 MB/s\u001b[0m eta \u001b[36m0:00:00\u001b[0m\n",
            "\u001b[?25hCollecting url-normalize>=1.4 (from requests-cache<1.0.0->farm-haystack[colab])\n",
            "  Downloading url_normalize-1.4.3-py2.py3-none-any.whl (6.8 kB)\n",
            "Requirement already satisfied: scipy>=1.6.0 in /usr/local/lib/python3.10/dist-packages (from scikit-learn>=1.3.0->farm-haystack[colab]) (1.11.4)\n",
            "Requirement already satisfied: joblib>=1.2.0 in /usr/local/lib/python3.10/dist-packages (from scikit-learn>=1.3.0->farm-haystack[colab]) (1.4.0)\n",
            "Requirement already satisfied: threadpoolctl>=2.0.0 in /usr/local/lib/python3.10/dist-packages (from scikit-learn>=1.3.0->farm-haystack[colab]) (3.4.0)\n",
            "Requirement already satisfied: anyio in /usr/local/lib/python3.10/dist-packages (from httpx->farm-haystack[colab]) (3.7.1)\n",
            "Collecting httpcore==1.* (from httpx->farm-haystack[colab])\n",
            "  Downloading httpcore-1.0.5-py3-none-any.whl (77 kB)\n",
            "\u001b[2K     \u001b[90m━━━━━━━━━━━━━━━━━━━━━━━━━━━━━━━━━━━━━━━━\u001b[0m \u001b[32m77.9/77.9 kB\u001b[0m \u001b[31m6.8 MB/s\u001b[0m eta \u001b[36m0:00:00\u001b[0m\n",
            "\u001b[?25hRequirement already satisfied: sniffio in /usr/local/lib/python3.10/dist-packages (from httpx->farm-haystack[colab]) (1.3.1)\n",
            "Collecting h11<0.15,>=0.13 (from httpcore==1.*->httpx->farm-haystack[colab])\n",
            "  Downloading h11-0.14.0-py3-none-any.whl (58 kB)\n",
            "\u001b[2K     \u001b[90m━━━━━━━━━━━━━━━━━━━━━━━━━━━━━━━━━━━━━━━━\u001b[0m \u001b[32m58.3/58.3 kB\u001b[0m \u001b[31m7.0 MB/s\u001b[0m eta \u001b[36m0:00:00\u001b[0m\n",
            "\u001b[?25hRequirement already satisfied: jsonschema-specifications>=2023.03.6 in /usr/local/lib/python3.10/dist-packages (from jsonschema->farm-haystack[colab]) (2023.12.1)\n",
            "Requirement already satisfied: referencing>=0.28.4 in /usr/local/lib/python3.10/dist-packages (from jsonschema->farm-haystack[colab]) (0.34.0)\n",
            "Requirement already satisfied: rpds-py>=0.7.1 in /usr/local/lib/python3.10/dist-packages (from jsonschema->farm-haystack[colab]) (0.18.0)\n",
            "Requirement already satisfied: python-dateutil>=2.8.2 in /usr/local/lib/python3.10/dist-packages (from pandas->farm-haystack[colab]) (2.8.2)\n",
            "Requirement already satisfied: pytz>=2020.1 in /usr/local/lib/python3.10/dist-packages (from pandas->farm-haystack[colab]) (2023.4)\n",
            "Requirement already satisfied: tzdata>=2022.1 in /usr/local/lib/python3.10/dist-packages (from pandas->farm-haystack[colab]) (2024.1)\n",
            "Requirement already satisfied: six>=1.5 in /usr/local/lib/python3.10/dist-packages (from posthog->farm-haystack[colab]) (1.16.0)\n",
            "Collecting monotonic>=1.5 (from posthog->farm-haystack[colab])\n",
            "  Downloading monotonic-1.6-py2.py3-none-any.whl (8.2 kB)\n",
            "Collecting backoff>=1.10.0 (from posthog->farm-haystack[colab])\n",
            "  Downloading backoff-2.2.1-py3-none-any.whl (15 kB)\n",
            "Requirement already satisfied: inflect in /usr/local/lib/python3.10/dist-packages (from quantulum3->farm-haystack[colab]) (7.0.0)\n",
            "Collecting num2words (from quantulum3->farm-haystack[colab])\n",
            "  Downloading num2words-0.5.13-py3-none-any.whl (143 kB)\n",
            "\u001b[2K     \u001b[90m━━━━━━━━━━━━━━━━━━━━━━━━━━━━━━━━━━━━━━━━\u001b[0m \u001b[32m143.3/143.3 kB\u001b[0m \u001b[31m19.0 MB/s\u001b[0m eta \u001b[36m0:00:00\u001b[0m\n",
            "\u001b[?25hRequirement already satisfied: exceptiongroup>=1.1.1 in /usr/local/lib/python3.10/dist-packages (from cattrs>=22.2->requests-cache<1.0.0->farm-haystack[colab]) (1.2.0)\n",
            "Requirement already satisfied: fsspec>=2023.5.0 in /usr/local/lib/python3.10/dist-packages (from huggingface-hub<1.0,>=0.19.3->transformers==4.37.2->farm-haystack[colab]) (2023.6.0)\n",
            "Collecting docopt>=0.6.2 (from num2words->quantulum3->farm-haystack[colab])\n",
            "  Downloading docopt-0.6.2.tar.gz (25 kB)\n",
            "  Preparing metadata (setup.py) ... \u001b[?25l\u001b[?25hdone\n",
            "Building wheels for collected packages: docopt\n",
            "  Building wheel for docopt (setup.py) ... \u001b[?25l\u001b[?25hdone\n",
            "  Created wheel for docopt: filename=docopt-0.6.2-py2.py3-none-any.whl size=13706 sha256=a93d73fd0aedc2caf09395066ad6477c524aee14372f166a33a25305bb58c420\n",
            "  Stored in directory: /root/.cache/pip/wheels/fc/ab/d4/5da2067ac95b36618c629a5f93f809425700506f72c9732fac\n",
            "Successfully built docopt\n",
            "Installing collected packages: sseclient-py, monotonic, events, docopt, url-normalize, rank-bm25, pydantic, pillow, num2words, lazy-imports, h11, cattrs, boilerpy3, backoff, tiktoken, scikit-learn, requests-cache, prompthub-py, posthog, httpcore, quantulum3, httpx, transformers, farm-haystack\n",
            "  Attempting uninstall: pydantic\n",
            "    Found existing installation: pydantic 2.6.4\n",
            "    Uninstalling pydantic-2.6.4:\n",
            "      Successfully uninstalled pydantic-2.6.4\n",
            "  Attempting uninstall: pillow\n",
            "    Found existing installation: Pillow 9.4.0\n",
            "    Uninstalling Pillow-9.4.0:\n",
            "      Successfully uninstalled Pillow-9.4.0\n",
            "  Attempting uninstall: scikit-learn\n",
            "    Found existing installation: scikit-learn 1.2.2\n",
            "    Uninstalling scikit-learn-1.2.2:\n",
            "      Successfully uninstalled scikit-learn-1.2.2\n",
            "  Attempting uninstall: transformers\n",
            "    Found existing installation: transformers 4.38.2\n",
            "    Uninstalling transformers-4.38.2:\n",
            "      Successfully uninstalled transformers-4.38.2\n",
            "Successfully installed backoff-2.2.1 boilerpy3-1.0.7 cattrs-23.2.3 docopt-0.6.2 events-0.5 farm-haystack-1.25.2 h11-0.14.0 httpcore-1.0.5 httpx-0.27.0 lazy-imports-0.3.1 monotonic-1.6 num2words-0.5.13 pillow-9.0.0 posthog-3.5.0 prompthub-py-4.0.0 pydantic-1.10.15 quantulum3-0.9.0 rank-bm25-0.2.2 requests-cache-0.9.8 scikit-learn-1.4.2 sseclient-py-1.8.0 tiktoken-0.6.0 transformers-4.37.2 url-normalize-1.4.3\n"
          ]
        },
        {
          "output_type": "display_data",
          "data": {
            "application/vnd.colab-display-data+json": {
              "pip_warning": {
                "packages": [
                  "PIL"
                ]
              },
              "id": "8493b61ae9ca43909a13b10d72bfe21f"
            }
          },
          "metadata": {}
        }
      ],
      "source": [
        "!pip install farm-haystack[colab] ##farm-haystack is a library that helps you build and deploy applications using large language models (LLMs). It provides tools to connect different components like models, databases, and data preprocessors into pipelines for tasks like question answering or information retrieval.\n",
        "                                 #[colab]: This is an optional extra package installer for farm-haystack. It specifies that you want to install additional components specifically designed to work well in Google Colab environments."
      ]
    },
    {
      "cell_type": "code",
      "source": [
        "from getpass import getpass\n",
        "HF_token=getpass(\"Hugging Face Token: \") #HF_token = getpass(\"Hugging Face Token: \") uses the getpass function to display a message \"Hugging Face Token: \" and then reads the user's input without echoing the characters on the screen."
      ],
      "metadata": {
        "colab": {
          "base_uri": "https://localhost:8080/"
        },
        "id": "4pEnq868OjdU",
        "outputId": "847cd4bf-505e-4116-8f22-c9024cb17788"
      },
      "execution_count": null,
      "outputs": [
        {
          "name": "stdout",
          "output_type": "stream",
          "text": [
            "Hugging Face Token: ··········\n"
          ]
        }
      ]
    },
    {
      "cell_type": "code",
      "source": [
        "from haystack.nodes import PreProcessor,PromptModel,PromptTemplate,PromptNode ##PreProcessor: This class is responsible for cleaning and preparing text data before feeding it to other NLP models.\n",
        "                                                                              #PromptModel: This class represents a large language model (LLM) that Haystack can interact with. It provides methods to send prompts (text instructions or questions) to the LLM and receive its response.\n",
        "                                                                              #PromptTemplate: This class allows you to define templates for your prompts. Templates are essentially pre-defined text formats with placeholders for specific information.\n",
        "                                                                              #PromptNode: This class is a building block for Haystack pipelines. It combines a PromptModel with a PromptTemplate and allows you to send queries or documents through the pipeline and receive the LLM's response based on the chosen template."
      ],
      "metadata": {
        "id": "w_LaZh14mm_O"
      },
      "execution_count": null,
      "outputs": []
    },
    {
      "cell_type": "code",
      "source": [
        "from getpass import getpass\n",
        "import json\n",
        "\n",
        "def extract_text_from_json(json_file):\n",
        "    try:\n",
        "        with open(json_file, 'r') as file:\n",
        "            text = \"\"\n",
        "            for line in file:\n",
        "                try:\n",
        "                    data = json.loads(line)\n",
        "                    for item in data:\n",
        "                        if isinstance(data[item], str):\n",
        "                            text += data[item] + \" \"\n",
        "                        elif isinstance(data[item], dict):\n",
        "                            for key in data[item]:\n",
        "                                if isinstance(data[item][key], str):\n",
        "                                    text += data[item][key] + \" \"\n",
        "                        elif isinstance(data[item], list):\n",
        "                            for element in data[item]:\n",
        "                                if isinstance(element, str):\n",
        "                                    text += element + \" \"\n",
        "                except json.JSONDecodeError as e:\n",
        "                    print(f\"Error decoding JSON: {e}\")\n",
        "            return text.strip()\n",
        "    except FileNotFoundError:\n",
        "        print(f\"File '{json_file}' not found.\")\n",
        "        return None\n",
        "\n",
        "# Prompt user for JSON file path\n",
        "json_file = input(\"Enter the path to the JSON file: \")\n",
        "\n",
        "# Extract text from JSON file\n",
        "extracted_text = extract_text_from_json(json_file)\n",
        "\n",
        "if extracted_text:\n",
        "    print(\"Extracted text:\")\n",
        "    print(extracted_text)\n"
      ],
      "metadata": {
        "colab": {
          "base_uri": "https://localhost:8080/"
        },
        "id": "cnmGPOpfmt_M",
        "outputId": "1e0e905e-217b-4116-940f-422067ca05a7"
      },
      "execution_count": null,
      "outputs": [
        {
          "output_type": "stream",
          "name": "stdout",
          "text": [
            "Enter the path to the JSON file: /content/kpi.jsonl\n",
            "Extracted text:\n",
            "OG_CALL_COUNT outgoing call count for a customers for past 30 days summerised OG_BUNDLE_CALL_COUNT The number of outgoing calls deducted from bundle subscription for a customer in the past month. OG_PAYG_CALL_COUNT The number of outgoing calls charged on a pay-as-you-go basis from the main balance for a customer in the past month. OG_FREE_CALL_COUNT The number of free outgoing calls for a customer in the past month. OG_IDD_PAYG_CALL_COUNT The number of international outgoing calls charged on a pay-as-you-go basis from the main balance for a customer in the past month. OG_IDD_GCC_CALL_COUNT The number of international outgoing calls to GCC countries charged on a pay-as-you-go basis from the main balance for a customer in the past month. OG_IDD_IBP_CALL_COUNT The number of international outgoing calls to IBP countries charged on a pay-as-you-go basis from the main balance for a customer in the past month. OG_IDD_VF_CALL_COUNT The number of international outgoing calls to VF networks charged on a pay-as-you-go basis from the main balance for a customer in the past month. OG_ROAM_BUNDLE_CALL_COUNT The number of outgoing calls made while roaming, deducted from a roaming bundle for a customer in the past month. OG_ROAM_PAYG_CALL_COUNT The number of outgoing calls made while roaming, charged on a pay-as-you-go basis from the main balance for a customer in the past month. OG_ROAM_GCC_CALL_COUNT The number of outgoing calls made to GCC countries while roaming, charged on a pay-as-you-go basis for a customer in the past month. OG_ROAM_IBP_CALL_COUNT The number of outgoing calls made to IBP countries while roaming, charged on a pay-as-you-go basis for a customer in the past month. OG_ROAM_VF_CALL_COUNT The number of outgoing calls made to Vodafone partner networks while roaming, charged on a pay-as-you-go basis for a customer in the past month. OG_CALL_MOU The total duration of outgoing calls for a customer in the past month, measured in minutes. OG_BUNDLE_CALL_MOU The total duration of outgoing calls deducted from bundle subscription for a customer in the past month, measured in minutes. OG_PAYG_CALL_MOU The total duration of outgoing calls charged on a pay-as-you-go basis from the main balance for a customer in the past month, measured in minutes. OG_FREE_CALL_MOU The total duration of free outgoing calls for a customer in the past month, measured in minutes. OG_IDD_BUNDLE_CALL_MOU The total duration of international outgoing calls deducted from a bundle for a customer in the past month, measured in minutes. OG_IDD_PAYG_CALL_MOU The total duration of international outgoing calls charged on a pay-as-you-go basis from the main balance for a customer in the past month, measured in minutes. OG_IDD_GCC_CALL_MOU The total duration of international outgoing calls to GCC countries charged on a pay-as-you-go basis for a customer in the past month, measured in minutes. OG_IDD_IBP_CALL_MOU The total duration of international outgoing calls to IBP countries charged on a pay-as-you-go basis for a customer in the past month, measured in minutes. OG_IDD_VF_CALL_MOU The total duration of international outgoing calls to VF networks charged on a pay-as-you-go basis for a customer in the past month, measured in minutes. OG_ROAM_BUNDLE_CALL_MOU The total duration of outgoing calls made while roaming, deducted from a roaming bundle for a customer in the past month, measured in minutes. OG_ROAM_PAYG_CALL_MOU The total duration of outgoing calls made while roaming, charged on a pay-as-you-go basis from the main balance for a customer in the past month, measured in minutes. OG_ROAM_GCC_CALL_MOU The total duration of outgoing calls made to GCC countries while roaming, charged on a pay-as-you-go basis for a customer in the past month, measured in minutes. OG_ROAM_IBP_CALL_MOU The total duration of outgoing calls made to IBP countries while roaming, charged on a pay-as-you-go basis for a customer in the past month, measured in minutes. OG_ROAM_VF_CALL_MOU The total duration of outgoing calls made to Vodafone partner networks while roaming, charged on a pay-as-you-go basis for a customer in the past month, measured in minutes. IC_CALL_COUNT The number of incoming calls received by a customer in the past month. IC_CALL_MOU The total duration of incoming calls received by a customer in the past month, measured in minutes. OG_SMS_COUNT The number of SMS messages sent by a customer in the outgoing mode in the past month. OG_BUNDLE_SMS_COUNT The number of SMS messages sent by a customer in the outgoing mode deducted from a bundle subscription in the past month. OG_PAYG_SMS_COUNT The number of pay-as-you-go (PAYG) SMS messages sent by a customer in the outgoing mode, charged from the main balance in the past month. OG_FREE_SMS_COUNT The number of free SMS messages sent by a customer in the outgoing mode in the past month. OG_IDD_BUNDLE_SMS_COUNT The number of international SMS messages sent by a customer in the outgoing mode deducted from a bundle in the past month. OG_IDD_PAYG_SMS_COUNT The number of international pay-as-you-go (PAYG) SMS messages sent by a customer in the outgoing mode, charged from the main balance in the past month. OG_IDD_FREE_SMS_COUNT The number of international free SMS messages sent by a customer in the outgoing mode in the past month. og_idd_bundle_call_count The number of international outgoing calls deducted from a bundle subscription for a customer in the past month. og_roam_bundle_sms_count The number of SMS messages sent while roaming deducted from a roaming bundle subscription in the past month. og_roam_payg_sms_count The number of SMS messages sent while roaming charged on a pay-as-you-go basis from the main balance in the past month. og_roam_free_sms_count The number of free SMS messages sent while roaming in the past month. ic_sms_count The number of incoming SMS messages received by a customer in the past month. data_volume The total volume of data used by a customer in the past month. data_bundle_volume The volume of data deducted from a data bundle subscription by a customer in the past month. data_payg_volume The volume of data used on a pay-as-you-go basis charged from the main balance by a customer in the past month. data_roam_bundle_volume The volume of data used while roaming deducted from a roaming data bundle subscription by a customer in the past month. data_roam_payg_volume The volume of data used while roaming charged on a pay-as-you-go basis from the main balance by a customer in the past month. email_session_count The number of email sessions initiated by a customer in the past month. game_session_count The number of gaming sessions initiated by a customer in the past month. streaming_session_count The number of streaming sessions initiated by a customer in the past month. web_browsing_session_count The number of web browsing sessions initiated by a customer in the past month. email_volume The volume of email data transmitted by a customer in the past month. game_volume The volume of gaming data transmitted by a customer in the past month. streaming_volume The volume of streaming data transmitted by a customer in the past month. web_browsing_volume The volume of web browsing data transmitted by a customer in the past month. whatsapp_volume The volume of WhatsApp data transmitted by a customer in the past month. facebook_volume The volume of Facebook data transmitted by a customer in the past month. tiktok_volume The volume of TikTok data transmitted by a customer in the past month. instagram_volume The volume of Instagram data transmitted by a customer in the past month. prepay_data_revenue The revenue generated from prepay data services by a customer in the past month. prepay_sms_revenue The revenue generated from prepay SMS services by a customer in the past month. prepay_voice_revenue The revenue generated from prepay voice call services by a customer in the past month. prepay_omip_revenue The revenue generated from prepay over-the-top (OTT) messaging services by a customer in the past month. prepay_vas_revenue The revenue generated from prepay value-added services (VAS) by a customer in the past month. prepay_mt_revenue The revenue generated from prepay mobile termination services by a customer in the past month. prepay_gft_revenue The revenue generated from prepay gifts and promotions by a customer in the past month. prepay_product_revenue The revenue generated from prepay product sales by a customer in the past month. total_revenue The total revenue generated by a customer in the past month.\n"
          ]
        }
      ]
    },
    {
      "cell_type": "code",
      "source": [
        "file_path = \"/content/kpi.jsonl\"\n",
        "json_normalize_text= extract_text_from_json(file_path)\n",
        "from haystack import Document\n",
        "doc= Document(\n",
        "    content=extracted_text,\n",
        "    meta={\"json_path\":file_path} #meta: This is an optional dictionary where you can store additional metadata about the document.Metadata refers to data that provides information about other data. It describes various attributes of the data, such as its content, format, quality, source, or other characteristics. In essence, metadata gives context and meaning to the data it describes.\n",
        ")"
      ],
      "metadata": {
        "id": "M77sChamnGHb"
      },
      "execution_count": null,
      "outputs": []
    },
    {
      "cell_type": "code",
      "source": [
        "docs = [doc]\n",
        "processor = PreProcessor(\n",
        "\n",
        "    clean_empty_lines=True,\n",
        "\n",
        "    clean_whitespace=True,\n",
        "\n",
        "    clean_header_footer=True,\n",
        "\n",
        "    split_by=\"word\",\n",
        "\n",
        "    split_length=500,\n",
        "\n",
        "    split_respect_sentence_boundary=True,\n",
        "\n",
        "    split_overlap=0,\n",
        "\n",
        "    language=\"en\",\n",
        ")"
      ],
      "metadata": {
        "id": "0nkjIIGvnTbJ",
        "colab": {
          "base_uri": "https://localhost:8080/"
        },
        "outputId": "123db593-e40e-4bfd-d592-2ab5a5027f02"
      },
      "execution_count": null,
      "outputs": [
        {
          "output_type": "stream",
          "name": "stderr",
          "text": [
            "[nltk_data] Downloading package punkt to /root/nltk_data...\n",
            "[nltk_data]   Unzipping tokenizers/punkt.zip.\n"
          ]
        }
      ]
    },
    {
      "cell_type": "code",
      "source": [
        "preprocessed_docs = processor.process(docs)"
      ],
      "metadata": {
        "colab": {
          "base_uri": "https://localhost:8080/"
        },
        "id": "N7yhTj84nW0b",
        "outputId": "9de7b86e-547a-45ee-c4a0-68c839ce8725"
      },
      "execution_count": null,
      "outputs": [
        {
          "output_type": "stream",
          "name": "stderr",
          "text": [
            "Preprocessing: 100%|██████████| 1/1 [00:00<00:00, 69.84docs/s]\n"
          ]
        }
      ]
    },
    {
      "cell_type": "code",
      "source": [
        "from haystack.document_stores import InMemoryDocumentStore #Document Stores: Haystack uses document stores to manage and store the text documents you want to work with in your NLP pipelines.\n",
        "                                                           #InMemoryDocumentStore: This specific class represents a document store that keeps all data in memory. It's a simple and fast option for experimentation or small datasets but not recommended for production due to memory limitations."
      ],
      "metadata": {
        "id": "UTQh8WBNna1z"
      },
      "execution_count": null,
      "outputs": []
    },
    {
      "cell_type": "code",
      "source": [
        "document_store = InMemoryDocumentStore(use_bm25=True) #document_store = InMemoryDocumentStore(use_bm25=True) creates a new instance of the InMemoryDocumentStore class and assigns it to the variable document_store.\n",
        "\n",
        "document_store.write_documents(preprocessed_docs)#document_store.write_documents(preprocessed_docs) writes a collection of preprocessed documents to the document_store.preprocessed_docs: This variable likely holds a list or collection of Haystack Document."
      ],
      "metadata": {
        "colab": {
          "base_uri": "https://localhost:8080/"
        },
        "id": "N3njZkc4ndi5",
        "outputId": "ade8f55d-e9ea-4ce3-af16-f88b377bb49d"
      },
      "execution_count": null,
      "outputs": [
        {
          "output_type": "stream",
          "name": "stderr",
          "text": [
            "Updating BM25 representation...: 100%|██████████| 3/3 [00:00<00:00, 1632.02 docs/s]\n"
          ]
        }
      ]
    },
    {
      "cell_type": "code",
      "source": [
        "from haystack import Pipeline #A Haystack pipeline combines different NLP components (like retrieval, reading, and question answering) into a single processing unit.\n",
        "\n",
        "from haystack.nodes import BM25Retriever #from haystack.nodes import BM25Retriever imports the BM25Retriever class from Haystack. This class represents a retriever component that uses the BM25 algorithm to find documents relevant to a user query.\n",
        "\n"
      ],
      "metadata": {
        "id": "W4wiEA5jnjnB"
      },
      "execution_count": null,
      "outputs": []
    },
    {
      "cell_type": "code",
      "source": [
        "def prompt_retriever_config():\n",
        "    top_k = int(input(\"Enter the number of documents to retrieve (default: 2): \") or \"2\") #This parameter sets the maximum number of documents the retriever will return for a given query.\n",
        "    return top_k\n",
        "\n",
        "# Prompt user for retriever configuration\n",
        "top_k = prompt_retriever_config()"
      ],
      "metadata": {
        "colab": {
          "base_uri": "https://localhost:8080/"
        },
        "id": "8AzDWwO9Gw1G",
        "outputId": "acb27577-f141-4a60-dd0c-9056366b9752"
      },
      "execution_count": null,
      "outputs": [
        {
          "name": "stdout",
          "output_type": "stream",
          "text": [
            "Enter the number of documents to retrieve (default: 2): 2\n"
          ]
        }
      ]
    },
    {
      "cell_type": "code",
      "source": [
        "retriever = BM25Retriever(document_store, top_k=top_k)"
      ],
      "metadata": {
        "id": "AcSOFOTE4w_g"
      },
      "execution_count": null,
      "outputs": []
    },
    {
      "cell_type": "markdown",
      "source": [
        "-The script prompts the user to input the path to a JSON file containing prompt templates.\n",
        "-It loads the templates from the file and displays them to the user.\n",
        "-The user selects a template by entering its index.\n",
        "-The selected template is then used in the script."
      ],
      "metadata": {
        "id": "BSjDGiuk_dY8"
      }
    },
    {
      "cell_type": "code",
      "source": [
        "import json\n",
        "\n",
        "# Define a function to load prompt templates from a JSON file\n",
        "def load_prompt_templates(template_file):\n",
        "    try:\n",
        "        with open(template_file, 'r') as file:\n",
        "            templates = json.load(file)\n",
        "        return templates\n",
        "    except FileNotFoundError:\n",
        "        print(f\"File '{template_file}' not found.\")\n",
        "        return None\n",
        "\n",
        "# Prompt user for the path to the template file\n",
        "template_file = input(\"Enter the path to the template JSON file: \")\n",
        "\n",
        "# Load prompt templates\n",
        "prompt_templates = load_prompt_templates(template_file)\n",
        "\n",
        "if prompt_templates:\n",
        "    # Display available prompt templates\n",
        "    print(\"Available Prompt Templates:\")\n",
        "    for i, template in enumerate(prompt_templates, 1):\n",
        "        print(f\"{i}. {template}\")\n",
        "\n",
        "    # Prompt user to select a template\n",
        "    template_index = int(input(\"Enter the index of the desired template: \")) - 1\n",
        "    selected_template = prompt_templates[template_index]\n",
        "    qa_template = PromptTemplate(prompt=selected_template)\n",
        "else:\n",
        "    print(\"No prompt templates loaded. Exiting...\")\n",
        "    exit()"
      ],
      "metadata": {
        "id": "8qFh-Wj_B2fh"
      },
      "execution_count": null,
      "outputs": []
    },
    {
      "cell_type": "code",
      "source": [
        "qa_template = PromptTemplate(prompt=\n",
        "\n",
        "\"\"\"\n",
        "Make sure the response provided is strictly in the format given below.\"\n",
        "\n",
        "Given below is a format for the RAG model prompt and the desired format for the response:\n",
        "\n",
        "Query Format:\n",
        "\n",
        "\"Get customers who had free outgoing calls in the past month and the total duration of those calls exceeded 60 minutes.\"\n",
        "\n",
        "Desired Response Format:\n",
        "\n",
        "“OG_FREE_CALL_COUNT > 0 AND OG_FREE_CALL_MOU > 60”\n",
        "\n",
        "Context: {join(documents)};\n",
        "Question: {query}\n",
        "\"\"\")\n"
      ],
      "metadata": {
        "id": "jkcdd8w-nnMu"
      },
      "execution_count": null,
      "outputs": []
    },
    {
      "cell_type": "code",
      "source": [
        "prompt_node = PromptNode(\n",
        "\n",
        "    model_name_or_path=\"mistralai/Mixtral-8x7B-Instruct-v0.1\",\n",
        "\n",
        "    api_key=HF_token,\n",
        "\n",
        "    default_prompt_template=qa_template,\n",
        "\n",
        "    max_length=int(input(\"Enter the maximum length of input query (default: 500): \") or \"500\"), #max_length=500 (optional argument): This parameter sets the maximum length of the response generated by the LLM. Here, it's set to 500 tokens, limiting the LLM's output to a maximum of 500 words or units of text.\n",
        "\n",
        "    model_kwargs={\"model_max_length\": int(input(\"Enter the maximum length for model response (default: 11000): \") or \"11000\")} #model_kwargs={\"model_max_length\": 5000} (optional argument): This argument passes additional keyword arguments to the underlying LLM. Here, it sets the model_max_length parameter within the model itself to 5000 tokens, which is a higher limit than the overall max_length of 500 imposed on the final response. This way, the LLM can internally process information up to 5000 tokens but will ultimately return a response trimmed to 500 tokens based on the first argument max_length.\n",
        ")"
      ],
      "metadata": {
        "colab": {
          "base_uri": "https://localhost:8080/",
          "height": 308,
          "referenced_widgets": [
            "7ddda2448eb04f858b13ef1b3245cde1",
            "3924dc94cffd407fb375cc731ffe3a8a",
            "1866b3731bcd4c05b54e09bf341e046a",
            "0fdaab74267645c994e84e543c5ea721",
            "d92f15bd7d004820b78d192fb311a95f",
            "8b3f517c58304b66979050b9a09421da",
            "50d125917bed4c16a94f4aa378e4bf7d",
            "2d0a31c0bfd24482ae485bd6fee8d5f3",
            "4b50daec8bb84768bef6e5aecca87abc",
            "97f128fd95094339a12f25cdc90dd738",
            "3e36f6d83aaa48ceaec22921f6659577",
            "46672f30ed544bd496ca127d3f1dac4a",
            "df76402d9ba74cbaae6cec86924f7562",
            "8a92d26257bf408daac4bd611b51155d",
            "ce5c22ea1a894560bd16557cb0601e4e",
            "ddac3726e48d48cf97643b6e2a1b549c",
            "b87ce012d9744254a5116ac0b2dfc474",
            "3efa6aebd8f34f858b3676d60062c173",
            "982ae3646d324a9a93b47a466154271a",
            "abaf0d052fda400eb98917de83d31a1e",
            "e20ca58e6e50465db75e20749527ad2f",
            "422a248a3b884be087a34c83b13fcec8",
            "1162503aa11b46e3a9b918c7e2da6565",
            "d80e09efc5104df59e05ce891e21b3e3",
            "897618ab25ed40a5849f4d642312e318",
            "89729aa2375d4cebaacc46eb1c3f5abd",
            "d718eca2fe844621afa8963e44a9ba9d",
            "a7dff421f32842faa6702f2809131621",
            "181bb7aa630c47d7ba8c0a04b4032140",
            "61baff3191cf4447894028b1ea91d407",
            "40c6874fc1344d08b81ee5d5f53ff961",
            "4cf69bdbf903499f967625d0eb224eec",
            "cc401c079d7f4f8bb88e991efded31f3",
            "5a88979c16ab48dd8e3185556ea6fc6a",
            "1459860991ce4c329734c30911cfeab4",
            "7f2a97c961894af08e79353683374290",
            "724bbb98456948b781da0c88686d2cca",
            "424b9931842041a7a929bb69b1f61d64",
            "cee8fac75f1f4b60872530daef4ce89f",
            "c0737ed3141b4bbbbd685c0ccbdeff03",
            "3d84173d41be443d82453d96c9c0cfe0",
            "d49472d4882a40bbb6183ee379edea8f",
            "f61f4a9ccfd74ca5a92e92dbd1657150",
            "f6119463d3db4504b1f3f5877eba110c"
          ]
        },
        "id": "SqV0bmA5IV14",
        "outputId": "5ad0dc4d-07fd-458a-fad1-08ad013fb695"
      },
      "execution_count": null,
      "outputs": [
        {
          "name": "stdout",
          "output_type": "stream",
          "text": [
            "Enter the maximum length of input query (default: 500): 400\n",
            "Enter the maximum length for model response (default: 11000): 9000\n"
          ]
        },
        {
          "output_type": "stream",
          "name": "stderr",
          "text": [
            "/usr/local/lib/python3.10/dist-packages/huggingface_hub/utils/_token.py:88: UserWarning: \n",
            "The secret `HF_TOKEN` does not exist in your Colab secrets.\n",
            "To authenticate with the Hugging Face Hub, create a token in your settings tab (https://huggingface.co/settings/tokens), set it as secret in your Google Colab and restart your session.\n",
            "You will be able to reuse this secret in all of your notebooks.\n",
            "Please note that authentication is recommended but still optional to access public models or datasets.\n",
            "  warnings.warn(\n"
          ]
        },
        {
          "output_type": "display_data",
          "data": {
            "text/plain": [
              "tokenizer_config.json:   0%|          | 0.00/1.46k [00:00<?, ?B/s]"
            ],
            "application/vnd.jupyter.widget-view+json": {
              "version_major": 2,
              "version_minor": 0,
              "model_id": "7ddda2448eb04f858b13ef1b3245cde1"
            }
          },
          "metadata": {}
        },
        {
          "output_type": "display_data",
          "data": {
            "text/plain": [
              "tokenizer.model:   0%|          | 0.00/493k [00:00<?, ?B/s]"
            ],
            "application/vnd.jupyter.widget-view+json": {
              "version_major": 2,
              "version_minor": 0,
              "model_id": "46672f30ed544bd496ca127d3f1dac4a"
            }
          },
          "metadata": {}
        },
        {
          "output_type": "display_data",
          "data": {
            "text/plain": [
              "tokenizer.json:   0%|          | 0.00/1.80M [00:00<?, ?B/s]"
            ],
            "application/vnd.jupyter.widget-view+json": {
              "version_major": 2,
              "version_minor": 0,
              "model_id": "1162503aa11b46e3a9b918c7e2da6565"
            }
          },
          "metadata": {}
        },
        {
          "output_type": "display_data",
          "data": {
            "text/plain": [
              "special_tokens_map.json:   0%|          | 0.00/72.0 [00:00<?, ?B/s]"
            ],
            "application/vnd.jupyter.widget-view+json": {
              "version_major": 2,
              "version_minor": 0,
              "model_id": "5a88979c16ab48dd8e3185556ea6fc6a"
            }
          },
          "metadata": {}
        }
      ]
    },
    {
      "cell_type": "code",
      "source": [
        "rag_pipeline = Pipeline()#Here, a new pipeline object named rag_pipeline is created using the Pipeline class. This pipeline is presumably intended to perform a sequence of tasks or processing steps.\n",
        "\n",
        "rag_pipeline.add_node(component=retriever, name=\"retriever\", inputs=[\"Query\"])#This line adds a node to the pipeline named \"retriever\". This node likely represents a component responsible for retrieving information relevant to a given query. The retriever variable seems to refer to an object or function representing this component. The inputs parameter specifies that the input data for this node is expected to come from a source named \"Query\".\n",
        "\n",
        "rag_pipeline.add_node(component=prompt_node, name=\"prompt_node\", inputs=[\"retriever\"])#Another node is added to the pipeline, named \"prompt_node\". This node seems to represent a component responsible for prompting users or generating prompts based on retrieved information. The prompt_node variable likely refers to an object or function representing this component. The inputs parameter specifies that the input data for this node is expected to come from the node named \"retriever\", indicating that the output of the retriever node serves as input to the prompt node."
      ],
      "metadata": {
        "id": "lyyQYQ-Xnu11"
      },
      "execution_count": null,
      "outputs": []
    },
    {
      "cell_type": "code",
      "source": [
        "from pprint import pprint #The pprint module in Python stands for \"pretty print.\" It provides a way to format Python data structures in a more human-readable and visually appealing way when printed to the console.\n",
        "print_answer = lambda out: pprint(out[\"results\"][0].strip()) #This code defines a lambda function print_answer that takes an input dictionary out. The lambda function assumes that out contains a key \"results\" which holds a list of strings. It then prints the first string from this list after stripping any leading or trailing whitespace."
      ],
      "metadata": {
        "id": "W-R2fZfYoC0z"
      },
      "execution_count": null,
      "outputs": []
    },
    {
      "cell_type": "code",
      "source": [
        "print_answer(rag_pipeline.run(query=\"Get customers who have only 5 incoming calls in the past 3 months and the total duration of those calls exceeded 30 minutes.\"))"
      ],
      "metadata": {
        "colab": {
          "base_uri": "https://localhost:8080/"
        },
        "id": "vkaABIG7oGDR",
        "outputId": "a5da1300-6282-4b92-e88a-aafb49318a7b"
      },
      "execution_count": null,
      "outputs": [
        {
          "output_type": "stream",
          "name": "stdout",
          "text": [
            "'Answer:\\n\\n\"IC_CALL_COUNT = 5 AND IC_CALL_MOU > 30\"'\n"
          ]
        }
      ]
    },
    {
      "cell_type": "code",
      "source": [],
      "metadata": {
        "id": "s5eE_RNPooF_"
      },
      "execution_count": null,
      "outputs": []
    }
  ]
}